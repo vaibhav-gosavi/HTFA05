{
 "cells": [
  {
   "cell_type": "code",
   "execution_count": null,
   "metadata": {},
   "outputs": [],
   "source": [
    "import pandas as pd\n",
    "import numpy as np"
   ]
  },
  {
   "cell_type": "code",
   "execution_count": null,
   "metadata": {},
   "outputs": [],
   "source": [
    "test = pd.read_csv(r\"/content/shopping_trends.csv\")"
   ]
  },
  {
   "cell_type": "code",
   "execution_count": null,
   "metadata": {},
   "outputs": [],
   "source": [
    "test.describe()\n",
    "test.info()\n",
    "test.head()"
   ]
  },
  {
   "cell_type": "code",
   "execution_count": null,
   "metadata": {},
   "outputs": [],
   "source": [
    "test.shape\n",
    "test.head()\n",
    "df = test.drop([\"Subscription Status\",\"Discount Applied\",\"Promo Code Used\",\"Shipping Type\"], axis='columns')\n",
    "test = test.dropna()"
   ]
  },
  {
   "cell_type": "code",
   "execution_count": null,
   "metadata": {},
   "outputs": [],
   "source": [
    "test.shape\n",
    "test.head()\n",
    "df = test.drop([\"Subscription Status\",\"Discount Applied\",\"Promo Code Used\",\"Shipping Type\"], axis='columns')\n",
    "test = test.dropna()"
   ]
  },
  {
   "cell_type": "code",
   "execution_count": null,
   "metadata": {},
   "outputs": [],
   "source": [
    "import pandas as pd\n",
    "\n",
    "df['First Name'] = 'User_fname' + (df.index + 1).astype(str)\n",
    "df['Last Name'] = 'User_lname' + (df.index + 1).astype(str)\n",
    "df = test.drop([\"FirstName\",\"LastName\"], axis='columns')\n",
    "\n",
    "# df = df.drop([\"LastName\"],axis = 1)  # Replace names with generic labels\n",
    "# df.drop(['Email', 'Phone'], axis=1, inplace=True)  # Remove email and phone numbers\n",
    "\n",
    "print(\"Anonymized Data:\")\n",
    "df.head()\n"
   ]
  }
 ],
 "metadata": {
  "kernelspec": {
   "display_name": "Python 3",
   "language": "python",
   "name": "python3"
  },
  "language_info": {
   "codemirror_mode": {
    "name": "ipython",
    "version": 3
   },
   "file_extension": ".py",
   "mimetype": "text/x-python",
   "name": "python",
   "nbconvert_exporter": "python",
   "pygments_lexer": "ipython3",
   "version": "3.11.4"
  }
 },
 "nbformat": 4,
 "nbformat_minor": 2
}
