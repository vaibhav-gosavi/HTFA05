{
 "cells": [
  {
   "cell_type": "code",
   "execution_count": null,
   "metadata": {},
   "outputs": [],
   "source": [
    "import pandas as pd\n",
    "import numpy as np"
   ]
  },
  {
   "cell_type": "code",
   "execution_count": null,
   "metadata": {},
   "outputs": [],
   "source": [
    "test = pd.read_csv(r\"/content/shopping_trends.csv\")"
   ]
  },
  {
   "cell_type": "code",
   "execution_count": null,
   "metadata": {},
   "outputs": [],
   "source": [
    "test.describe()\n",
    "test.info()\n",
    "test.head()"
   ]
  },
  {
   "cell_type": "code",
   "execution_count": null,
   "metadata": {},
   "outputs": [],
   "source": [
    "test.shape\n",
    "test.head()\n",
    "df = test.drop([\"Subscription Status\",\"Discount Applied\",\"Promo Code Used\",\"Shipping Type\"], axis='columns')\n",
    "test = test.dropna()"
   ]
  },
  {
   "cell_type": "code",
   "execution_count": null,
   "metadata": {},
   "outputs": [],
   "source": [
    "test.shape\n",
    "test.head()\n",
    "df = test.drop([\"Subscription Status\",\"Discount Applied\",\"Promo Code Used\",\"Shipping Type\"], axis='columns')\n",
    "test = test.dropna()"
   ]
  },
  {
   "cell_type": "code",
   "execution_count": null,
   "metadata": {},
   "outputs": [],
   "source": [
    "import pandas as pd\n",
    "\n",
    "df['First Name'] = 'User_fname' + (df.index + 1).astype(str)\n",
    "df['Last Name'] = 'User_lname' + (df.index + 1).astype(str)\n",
    "df = test.drop([\"FirstName\",\"LastName\"], axis='columns')\n",
    "\n",
    "# df = df.drop([\"LastName\"],axis = 1)  # Replace names with generic labels\n",
    "# df.drop(['Email', 'Phone'], axis=1, inplace=True)  # Remove email and phone numbers\n",
    "\n",
    "print(\"Anonymized Data:\")\n",
    "df.head()\n"
   ]
  },
  {
   "cell_type": "code",
   "execution_count": null,
   "metadata": {},
   "outputs": [],
   "source": [
    "import pandas as pd\n",
    "import hashlib\n",
    "\n",
    "def hash_data(data):\n",
    "    \"\"\"\n",
    "    Hash the input data using SHA-256 algorithm.\n",
    "\n",
    "    Parameters:\n",
    "        data (str): Input data to be hashed.\n",
    "\n",
    "    Returns:\n",
    "        str: Hashed value of the input data.\n",
    "    \"\"\"\n",
    "    # Encode the input data as bytes\n",
    "    encoded_data = data.encode('utf-8')\n",
    "\n",
    "    # Compute the SHA-256 hash\n",
    "    hashed_data = hashlib.sha256(encoded_data).hexdigest()\n",
    "\n",
    "    return hashed_data\n",
    "\n",
    "# Hash data in the 'Email' column\n",
    "df['HashedEmail'] = df['ADEmail'].apply(hash_data)\n",
    "df['HashedPhone number'] = df['Phone number'].apply(hash_data)\n",
    "df = test.drop([\"ADEmail\",\"Phone number\"], axis='columns')\n",
    "\n",
    "\n",
    "print(\"DataFrame with Hashed Email:\")\n",
    "print(df)\n"
   ]
  }
 ],
 "metadata": {
  "kernelspec": {
   "display_name": "Python 3",
   "language": "python",
   "name": "python3"
  },
  "language_info": {
   "codemirror_mode": {
    "name": "ipython",
    "version": 3
   },
   "file_extension": ".py",
   "mimetype": "text/x-python",
   "name": "python",
   "nbconvert_exporter": "python",
   "pygments_lexer": "ipython3",
   "version": "3.11.4"
  }
 },
 "nbformat": 4,
 "nbformat_minor": 2
}
